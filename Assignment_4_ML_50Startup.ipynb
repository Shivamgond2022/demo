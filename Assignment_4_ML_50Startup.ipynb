{
  "nbformat": 4,
  "nbformat_minor": 0,
  "metadata": {
    "colab": {
      "provenance": [],
      "mount_file_id": "1SmUrij4i_mnqquMSBnfEkttfSDlU4eeT",
      "authorship_tag": "ABX9TyMeZtXd/KtkROUX2YAUuyQS",
      "include_colab_link": true
    },
    "kernelspec": {
      "name": "python3",
      "display_name": "Python 3"
    },
    "language_info": {
      "name": "python"
    }
  },
  "cells": [
    {
      "cell_type": "markdown",
      "metadata": {
        "id": "view-in-github",
        "colab_type": "text"
      },
      "source": [
        "<a href=\"https://colab.research.google.com/github/Shivamgond2022/demo/blob/main/Assignment_4_ML_50Startup.ipynb\" target=\"_parent\"><img src=\"https://colab.research.google.com/assets/colab-badge.svg\" alt=\"Open In Colab\"/></a>"
      ]
    },
    {
      "cell_type": "markdown",
      "source": [
        "# Assignment 4 Multi Linear Regration\n",
        "## Problemstatment\n",
        "- Prepare a prediction model for profit of 50_startups data.\n",
        "Do transformations for getting better predictions of profit and\n",
        "make a table containing R^2 value for each prepared model"
      ],
      "metadata": {
        "id": "4VIxtzJD7f8s"
      }
    },
    {
      "cell_type": "code",
      "execution_count": null,
      "metadata": {
        "id": "jdYjC3VD5x9n"
      },
      "outputs": [],
      "source": [
        "import numpy as np\n",
        "import pandas as pd\n",
        "import matplotlib.pyplot as plt\n",
        "import statsmodels.formula.api as smf\n",
        "from numpy.polynomial.polynomial import polyfit\n",
        "from sklearn.linear_model import LinearRegression\n",
        "import seaborn as sns\n",
        "import statsmodels.stats.tests.test_influence\n",
        "from sklearn.feature_selection import RFE\n",
        "from statsmodels.stats.outliers_influence import variance_inflation_factor"
      ]
    },
    {
      "cell_type": "markdown",
      "source": [
        "## Data collaction and cheaking it correlation"
      ],
      "metadata": {
        "id": "rJ9MOTW6C7Uc"
      }
    },
    {
      "cell_type": "code",
      "source": [
        "df = pd.read_csv('/content/drive/MyDrive/Data set folder/50_Startups - Copy.csv')\n",
        "df.head()"
      ],
      "metadata": {
        "colab": {
          "base_uri": "https://localhost:8080/",
          "height": 206
        },
        "id": "jQRDPRFX7eZx",
        "outputId": "eefb5b9c-ca52-4f6b-e8a1-2811f1a3db41"
      },
      "execution_count": null,
      "outputs": [
        {
          "output_type": "execute_result",
          "data": {
            "text/plain": [
              "   R&D Spend  Administration  Marketing Spend       State     Profit\n",
              "0  165349.20       136897.80        471784.10    New York  192261.83\n",
              "1  162597.70       151377.59        443898.53  California  191792.06\n",
              "2  153441.51       101145.55        407934.54     Florida  191050.39\n",
              "3  144372.41       118671.85        383199.62    New York  182901.99\n",
              "4  142107.34        91391.77        366168.42     Florida  166187.94"
            ],
            "text/html": [
              "\n",
              "  <div id=\"df-d8f83950-e236-494c-ad8a-5b3fa42b5480\">\n",
              "    <div class=\"colab-df-container\">\n",
              "      <div>\n",
              "<style scoped>\n",
              "    .dataframe tbody tr th:only-of-type {\n",
              "        vertical-align: middle;\n",
              "    }\n",
              "\n",
              "    .dataframe tbody tr th {\n",
              "        vertical-align: top;\n",
              "    }\n",
              "\n",
              "    .dataframe thead th {\n",
              "        text-align: right;\n",
              "    }\n",
              "</style>\n",
              "<table border=\"1\" class=\"dataframe\">\n",
              "  <thead>\n",
              "    <tr style=\"text-align: right;\">\n",
              "      <th></th>\n",
              "      <th>R&amp;D Spend</th>\n",
              "      <th>Administration</th>\n",
              "      <th>Marketing Spend</th>\n",
              "      <th>State</th>\n",
              "      <th>Profit</th>\n",
              "    </tr>\n",
              "  </thead>\n",
              "  <tbody>\n",
              "    <tr>\n",
              "      <th>0</th>\n",
              "      <td>165349.20</td>\n",
              "      <td>136897.80</td>\n",
              "      <td>471784.10</td>\n",
              "      <td>New York</td>\n",
              "      <td>192261.83</td>\n",
              "    </tr>\n",
              "    <tr>\n",
              "      <th>1</th>\n",
              "      <td>162597.70</td>\n",
              "      <td>151377.59</td>\n",
              "      <td>443898.53</td>\n",
              "      <td>California</td>\n",
              "      <td>191792.06</td>\n",
              "    </tr>\n",
              "    <tr>\n",
              "      <th>2</th>\n",
              "      <td>153441.51</td>\n",
              "      <td>101145.55</td>\n",
              "      <td>407934.54</td>\n",
              "      <td>Florida</td>\n",
              "      <td>191050.39</td>\n",
              "    </tr>\n",
              "    <tr>\n",
              "      <th>3</th>\n",
              "      <td>144372.41</td>\n",
              "      <td>118671.85</td>\n",
              "      <td>383199.62</td>\n",
              "      <td>New York</td>\n",
              "      <td>182901.99</td>\n",
              "    </tr>\n",
              "    <tr>\n",
              "      <th>4</th>\n",
              "      <td>142107.34</td>\n",
              "      <td>91391.77</td>\n",
              "      <td>366168.42</td>\n",
              "      <td>Florida</td>\n",
              "      <td>166187.94</td>\n",
              "    </tr>\n",
              "  </tbody>\n",
              "</table>\n",
              "</div>\n",
              "      <button class=\"colab-df-convert\" onclick=\"convertToInteractive('df-d8f83950-e236-494c-ad8a-5b3fa42b5480')\"\n",
              "              title=\"Convert this dataframe to an interactive table.\"\n",
              "              style=\"display:none;\">\n",
              "        \n",
              "  <svg xmlns=\"http://www.w3.org/2000/svg\" height=\"24px\"viewBox=\"0 0 24 24\"\n",
              "       width=\"24px\">\n",
              "    <path d=\"M0 0h24v24H0V0z\" fill=\"none\"/>\n",
              "    <path d=\"M18.56 5.44l.94 2.06.94-2.06 2.06-.94-2.06-.94-.94-2.06-.94 2.06-2.06.94zm-11 1L8.5 8.5l.94-2.06 2.06-.94-2.06-.94L8.5 2.5l-.94 2.06-2.06.94zm10 10l.94 2.06.94-2.06 2.06-.94-2.06-.94-.94-2.06-.94 2.06-2.06.94z\"/><path d=\"M17.41 7.96l-1.37-1.37c-.4-.4-.92-.59-1.43-.59-.52 0-1.04.2-1.43.59L10.3 9.45l-7.72 7.72c-.78.78-.78 2.05 0 2.83L4 21.41c.39.39.9.59 1.41.59.51 0 1.02-.2 1.41-.59l7.78-7.78 2.81-2.81c.8-.78.8-2.07 0-2.86zM5.41 20L4 18.59l7.72-7.72 1.47 1.35L5.41 20z\"/>\n",
              "  </svg>\n",
              "      </button>\n",
              "      \n",
              "  <style>\n",
              "    .colab-df-container {\n",
              "      display:flex;\n",
              "      flex-wrap:wrap;\n",
              "      gap: 12px;\n",
              "    }\n",
              "\n",
              "    .colab-df-convert {\n",
              "      background-color: #E8F0FE;\n",
              "      border: none;\n",
              "      border-radius: 50%;\n",
              "      cursor: pointer;\n",
              "      display: none;\n",
              "      fill: #1967D2;\n",
              "      height: 32px;\n",
              "      padding: 0 0 0 0;\n",
              "      width: 32px;\n",
              "    }\n",
              "\n",
              "    .colab-df-convert:hover {\n",
              "      background-color: #E2EBFA;\n",
              "      box-shadow: 0px 1px 2px rgba(60, 64, 67, 0.3), 0px 1px 3px 1px rgba(60, 64, 67, 0.15);\n",
              "      fill: #174EA6;\n",
              "    }\n",
              "\n",
              "    [theme=dark] .colab-df-convert {\n",
              "      background-color: #3B4455;\n",
              "      fill: #D2E3FC;\n",
              "    }\n",
              "\n",
              "    [theme=dark] .colab-df-convert:hover {\n",
              "      background-color: #434B5C;\n",
              "      box-shadow: 0px 1px 3px 1px rgba(0, 0, 0, 0.15);\n",
              "      filter: drop-shadow(0px 1px 2px rgba(0, 0, 0, 0.3));\n",
              "      fill: #FFFFFF;\n",
              "    }\n",
              "  </style>\n",
              "\n",
              "      <script>\n",
              "        const buttonEl =\n",
              "          document.querySelector('#df-d8f83950-e236-494c-ad8a-5b3fa42b5480 button.colab-df-convert');\n",
              "        buttonEl.style.display =\n",
              "          google.colab.kernel.accessAllowed ? 'block' : 'none';\n",
              "\n",
              "        async function convertToInteractive(key) {\n",
              "          const element = document.querySelector('#df-d8f83950-e236-494c-ad8a-5b3fa42b5480');\n",
              "          const dataTable =\n",
              "            await google.colab.kernel.invokeFunction('convertToInteractive',\n",
              "                                                     [key], {});\n",
              "          if (!dataTable) return;\n",
              "\n",
              "          const docLinkHtml = 'Like what you see? Visit the ' +\n",
              "            '<a target=\"_blank\" href=https://colab.research.google.com/notebooks/data_table.ipynb>data table notebook</a>'\n",
              "            + ' to learn more about interactive tables.';\n",
              "          element.innerHTML = '';\n",
              "          dataTable['output_type'] = 'display_data';\n",
              "          await google.colab.output.renderOutput(dataTable, element);\n",
              "          const docLink = document.createElement('div');\n",
              "          docLink.innerHTML = docLinkHtml;\n",
              "          element.appendChild(docLink);\n",
              "        }\n",
              "      </script>\n",
              "    </div>\n",
              "  </div>\n",
              "  "
            ]
          },
          "metadata": {},
          "execution_count": 2
        }
      ]
    },
    {
      "cell_type": "code",
      "source": [
        "df.rename(columns={\"R&D Spend\":\"R_D\",\"Administration\":\"Admin\",\"Marketing Spend\":\"M_S\"},inplace=True)"
      ],
      "metadata": {
        "id": "N4x43Qla7rfU"
      },
      "execution_count": null,
      "outputs": []
    },
    {
      "cell_type": "code",
      "source": [
        "df.shape"
      ],
      "metadata": {
        "colab": {
          "base_uri": "https://localhost:8080/"
        },
        "id": "R93sFTZY9TwV",
        "outputId": "a7d0017b-f654-416a-ffcc-59e07593895b"
      },
      "execution_count": null,
      "outputs": [
        {
          "output_type": "execute_result",
          "data": {
            "text/plain": [
              "(50, 5)"
            ]
          },
          "metadata": {},
          "execution_count": 4
        }
      ]
    },
    {
      "cell_type": "code",
      "source": [
        "df.info()"
      ],
      "metadata": {
        "colab": {
          "base_uri": "https://localhost:8080/"
        },
        "id": "HDeiRcjb8zdr",
        "outputId": "74e6d7c8-435a-4446-9fef-1507ec1a0109"
      },
      "execution_count": null,
      "outputs": [
        {
          "output_type": "stream",
          "name": "stdout",
          "text": [
            "<class 'pandas.core.frame.DataFrame'>\n",
            "RangeIndex: 50 entries, 0 to 49\n",
            "Data columns (total 5 columns):\n",
            " #   Column  Non-Null Count  Dtype  \n",
            "---  ------  --------------  -----  \n",
            " 0   R_D     50 non-null     float64\n",
            " 1   Admin   50 non-null     float64\n",
            " 2   M_S     50 non-null     float64\n",
            " 3   State   50 non-null     object \n",
            " 4   Profit  50 non-null     float64\n",
            "dtypes: float64(4), object(1)\n",
            "memory usage: 2.1+ KB\n"
          ]
        }
      ]
    },
    {
      "cell_type": "code",
      "source": [
        "df.duplicated()"
      ],
      "metadata": {
        "colab": {
          "base_uri": "https://localhost:8080/"
        },
        "id": "-Ej3wVC_9OFb",
        "outputId": "e802f9ee-c43e-4a57-86aa-3fc64136946d"
      },
      "execution_count": null,
      "outputs": [
        {
          "output_type": "execute_result",
          "data": {
            "text/plain": [
              "0     False\n",
              "1     False\n",
              "2     False\n",
              "3     False\n",
              "4     False\n",
              "5     False\n",
              "6     False\n",
              "7     False\n",
              "8     False\n",
              "9     False\n",
              "10    False\n",
              "11    False\n",
              "12    False\n",
              "13    False\n",
              "14    False\n",
              "15    False\n",
              "16    False\n",
              "17    False\n",
              "18    False\n",
              "19    False\n",
              "20    False\n",
              "21    False\n",
              "22    False\n",
              "23    False\n",
              "24    False\n",
              "25    False\n",
              "26    False\n",
              "27    False\n",
              "28    False\n",
              "29    False\n",
              "30    False\n",
              "31    False\n",
              "32    False\n",
              "33    False\n",
              "34    False\n",
              "35    False\n",
              "36    False\n",
              "37    False\n",
              "38    False\n",
              "39    False\n",
              "40    False\n",
              "41    False\n",
              "42    False\n",
              "43    False\n",
              "44    False\n",
              "45    False\n",
              "46    False\n",
              "47    False\n",
              "48    False\n",
              "49    False\n",
              "dtype: bool"
            ]
          },
          "metadata": {},
          "execution_count": 6
        }
      ]
    },
    {
      "cell_type": "markdown",
      "source": [
        "# We are converting our column 'State' in dummy format because it has 'String' values"
      ],
      "metadata": {
        "id": "QwCTP89j-d-G"
      }
    },
    {
      "cell_type": "code",
      "source": [
        "df1=pd.get_dummies(df,columns=['State'])\n",
        "df1.head()"
      ],
      "metadata": {
        "colab": {
          "base_uri": "https://localhost:8080/",
          "height": 206
        },
        "id": "gxpsGcZs9iYy",
        "outputId": "fe164156-3117-4ab8-cd8e-fada79723daf"
      },
      "execution_count": null,
      "outputs": [
        {
          "output_type": "execute_result",
          "data": {
            "text/plain": [
              "         R_D      Admin        M_S     Profit  State_California  \\\n",
              "0  165349.20  136897.80  471784.10  192261.83                 0   \n",
              "1  162597.70  151377.59  443898.53  191792.06                 1   \n",
              "2  153441.51  101145.55  407934.54  191050.39                 0   \n",
              "3  144372.41  118671.85  383199.62  182901.99                 0   \n",
              "4  142107.34   91391.77  366168.42  166187.94                 0   \n",
              "\n",
              "   State_Florida  State_New York  \n",
              "0              0               1  \n",
              "1              0               0  \n",
              "2              1               0  \n",
              "3              0               1  \n",
              "4              1               0  "
            ],
            "text/html": [
              "\n",
              "  <div id=\"df-c87d4b1c-605f-4427-8c20-468ff6f52988\">\n",
              "    <div class=\"colab-df-container\">\n",
              "      <div>\n",
              "<style scoped>\n",
              "    .dataframe tbody tr th:only-of-type {\n",
              "        vertical-align: middle;\n",
              "    }\n",
              "\n",
              "    .dataframe tbody tr th {\n",
              "        vertical-align: top;\n",
              "    }\n",
              "\n",
              "    .dataframe thead th {\n",
              "        text-align: right;\n",
              "    }\n",
              "</style>\n",
              "<table border=\"1\" class=\"dataframe\">\n",
              "  <thead>\n",
              "    <tr style=\"text-align: right;\">\n",
              "      <th></th>\n",
              "      <th>R_D</th>\n",
              "      <th>Admin</th>\n",
              "      <th>M_S</th>\n",
              "      <th>Profit</th>\n",
              "      <th>State_California</th>\n",
              "      <th>State_Florida</th>\n",
              "      <th>State_New York</th>\n",
              "    </tr>\n",
              "  </thead>\n",
              "  <tbody>\n",
              "    <tr>\n",
              "      <th>0</th>\n",
              "      <td>165349.20</td>\n",
              "      <td>136897.80</td>\n",
              "      <td>471784.10</td>\n",
              "      <td>192261.83</td>\n",
              "      <td>0</td>\n",
              "      <td>0</td>\n",
              "      <td>1</td>\n",
              "    </tr>\n",
              "    <tr>\n",
              "      <th>1</th>\n",
              "      <td>162597.70</td>\n",
              "      <td>151377.59</td>\n",
              "      <td>443898.53</td>\n",
              "      <td>191792.06</td>\n",
              "      <td>1</td>\n",
              "      <td>0</td>\n",
              "      <td>0</td>\n",
              "    </tr>\n",
              "    <tr>\n",
              "      <th>2</th>\n",
              "      <td>153441.51</td>\n",
              "      <td>101145.55</td>\n",
              "      <td>407934.54</td>\n",
              "      <td>191050.39</td>\n",
              "      <td>0</td>\n",
              "      <td>1</td>\n",
              "      <td>0</td>\n",
              "    </tr>\n",
              "    <tr>\n",
              "      <th>3</th>\n",
              "      <td>144372.41</td>\n",
              "      <td>118671.85</td>\n",
              "      <td>383199.62</td>\n",
              "      <td>182901.99</td>\n",
              "      <td>0</td>\n",
              "      <td>0</td>\n",
              "      <td>1</td>\n",
              "    </tr>\n",
              "    <tr>\n",
              "      <th>4</th>\n",
              "      <td>142107.34</td>\n",
              "      <td>91391.77</td>\n",
              "      <td>366168.42</td>\n",
              "      <td>166187.94</td>\n",
              "      <td>0</td>\n",
              "      <td>1</td>\n",
              "      <td>0</td>\n",
              "    </tr>\n",
              "  </tbody>\n",
              "</table>\n",
              "</div>\n",
              "      <button class=\"colab-df-convert\" onclick=\"convertToInteractive('df-c87d4b1c-605f-4427-8c20-468ff6f52988')\"\n",
              "              title=\"Convert this dataframe to an interactive table.\"\n",
              "              style=\"display:none;\">\n",
              "        \n",
              "  <svg xmlns=\"http://www.w3.org/2000/svg\" height=\"24px\"viewBox=\"0 0 24 24\"\n",
              "       width=\"24px\">\n",
              "    <path d=\"M0 0h24v24H0V0z\" fill=\"none\"/>\n",
              "    <path d=\"M18.56 5.44l.94 2.06.94-2.06 2.06-.94-2.06-.94-.94-2.06-.94 2.06-2.06.94zm-11 1L8.5 8.5l.94-2.06 2.06-.94-2.06-.94L8.5 2.5l-.94 2.06-2.06.94zm10 10l.94 2.06.94-2.06 2.06-.94-2.06-.94-.94-2.06-.94 2.06-2.06.94z\"/><path d=\"M17.41 7.96l-1.37-1.37c-.4-.4-.92-.59-1.43-.59-.52 0-1.04.2-1.43.59L10.3 9.45l-7.72 7.72c-.78.78-.78 2.05 0 2.83L4 21.41c.39.39.9.59 1.41.59.51 0 1.02-.2 1.41-.59l7.78-7.78 2.81-2.81c.8-.78.8-2.07 0-2.86zM5.41 20L4 18.59l7.72-7.72 1.47 1.35L5.41 20z\"/>\n",
              "  </svg>\n",
              "      </button>\n",
              "      \n",
              "  <style>\n",
              "    .colab-df-container {\n",
              "      display:flex;\n",
              "      flex-wrap:wrap;\n",
              "      gap: 12px;\n",
              "    }\n",
              "\n",
              "    .colab-df-convert {\n",
              "      background-color: #E8F0FE;\n",
              "      border: none;\n",
              "      border-radius: 50%;\n",
              "      cursor: pointer;\n",
              "      display: none;\n",
              "      fill: #1967D2;\n",
              "      height: 32px;\n",
              "      padding: 0 0 0 0;\n",
              "      width: 32px;\n",
              "    }\n",
              "\n",
              "    .colab-df-convert:hover {\n",
              "      background-color: #E2EBFA;\n",
              "      box-shadow: 0px 1px 2px rgba(60, 64, 67, 0.3), 0px 1px 3px 1px rgba(60, 64, 67, 0.15);\n",
              "      fill: #174EA6;\n",
              "    }\n",
              "\n",
              "    [theme=dark] .colab-df-convert {\n",
              "      background-color: #3B4455;\n",
              "      fill: #D2E3FC;\n",
              "    }\n",
              "\n",
              "    [theme=dark] .colab-df-convert:hover {\n",
              "      background-color: #434B5C;\n",
              "      box-shadow: 0px 1px 3px 1px rgba(0, 0, 0, 0.15);\n",
              "      filter: drop-shadow(0px 1px 2px rgba(0, 0, 0, 0.3));\n",
              "      fill: #FFFFFF;\n",
              "    }\n",
              "  </style>\n",
              "\n",
              "      <script>\n",
              "        const buttonEl =\n",
              "          document.querySelector('#df-c87d4b1c-605f-4427-8c20-468ff6f52988 button.colab-df-convert');\n",
              "        buttonEl.style.display =\n",
              "          google.colab.kernel.accessAllowed ? 'block' : 'none';\n",
              "\n",
              "        async function convertToInteractive(key) {\n",
              "          const element = document.querySelector('#df-c87d4b1c-605f-4427-8c20-468ff6f52988');\n",
              "          const dataTable =\n",
              "            await google.colab.kernel.invokeFunction('convertToInteractive',\n",
              "                                                     [key], {});\n",
              "          if (!dataTable) return;\n",
              "\n",
              "          const docLinkHtml = 'Like what you see? Visit the ' +\n",
              "            '<a target=\"_blank\" href=https://colab.research.google.com/notebooks/data_table.ipynb>data table notebook</a>'\n",
              "            + ' to learn more about interactive tables.';\n",
              "          element.innerHTML = '';\n",
              "          dataTable['output_type'] = 'display_data';\n",
              "          await google.colab.output.renderOutput(dataTable, element);\n",
              "          const docLink = document.createElement('div');\n",
              "          docLink.innerHTML = docLinkHtml;\n",
              "          element.appendChild(docLink);\n",
              "        }\n",
              "      </script>\n",
              "    </div>\n",
              "  </div>\n",
              "  "
            ]
          },
          "metadata": {},
          "execution_count": 7
        }
      ]
    },
    {
      "cell_type": "code",
      "source": [
        "df1.describe()"
      ],
      "metadata": {
        "colab": {
          "base_uri": "https://localhost:8080/",
          "height": 300
        },
        "id": "cHIxNTQO-Moy",
        "outputId": "7dbf10e3-3f26-4a52-e1da-995265905bdf"
      },
      "execution_count": null,
      "outputs": [
        {
          "output_type": "execute_result",
          "data": {
            "text/plain": [
              "                 R_D          Admin            M_S         Profit  \\\n",
              "count      50.000000      50.000000      50.000000      50.000000   \n",
              "mean    73721.615600  121344.639600  211025.097800  112012.639200   \n",
              "std     45902.256482   28017.802755  122290.310726   40306.180338   \n",
              "min         0.000000   51283.140000       0.000000   14681.400000   \n",
              "25%     39936.370000  103730.875000  129300.132500   90138.902500   \n",
              "50%     73051.080000  122699.795000  212716.240000  107978.190000   \n",
              "75%    101602.800000  144842.180000  299469.085000  139765.977500   \n",
              "max    165349.200000  182645.560000  471784.100000  192261.830000   \n",
              "\n",
              "       State_California  State_Florida  State_New York  \n",
              "count         50.000000      50.000000       50.000000  \n",
              "mean           0.340000       0.320000        0.340000  \n",
              "std            0.478518       0.471212        0.478518  \n",
              "min            0.000000       0.000000        0.000000  \n",
              "25%            0.000000       0.000000        0.000000  \n",
              "50%            0.000000       0.000000        0.000000  \n",
              "75%            1.000000       1.000000        1.000000  \n",
              "max            1.000000       1.000000        1.000000  "
            ],
            "text/html": [
              "\n",
              "  <div id=\"df-6a1bac24-c097-488e-99b4-3f44416548fc\">\n",
              "    <div class=\"colab-df-container\">\n",
              "      <div>\n",
              "<style scoped>\n",
              "    .dataframe tbody tr th:only-of-type {\n",
              "        vertical-align: middle;\n",
              "    }\n",
              "\n",
              "    .dataframe tbody tr th {\n",
              "        vertical-align: top;\n",
              "    }\n",
              "\n",
              "    .dataframe thead th {\n",
              "        text-align: right;\n",
              "    }\n",
              "</style>\n",
              "<table border=\"1\" class=\"dataframe\">\n",
              "  <thead>\n",
              "    <tr style=\"text-align: right;\">\n",
              "      <th></th>\n",
              "      <th>R_D</th>\n",
              "      <th>Admin</th>\n",
              "      <th>M_S</th>\n",
              "      <th>Profit</th>\n",
              "      <th>State_California</th>\n",
              "      <th>State_Florida</th>\n",
              "      <th>State_New York</th>\n",
              "    </tr>\n",
              "  </thead>\n",
              "  <tbody>\n",
              "    <tr>\n",
              "      <th>count</th>\n",
              "      <td>50.000000</td>\n",
              "      <td>50.000000</td>\n",
              "      <td>50.000000</td>\n",
              "      <td>50.000000</td>\n",
              "      <td>50.000000</td>\n",
              "      <td>50.000000</td>\n",
              "      <td>50.000000</td>\n",
              "    </tr>\n",
              "    <tr>\n",
              "      <th>mean</th>\n",
              "      <td>73721.615600</td>\n",
              "      <td>121344.639600</td>\n",
              "      <td>211025.097800</td>\n",
              "      <td>112012.639200</td>\n",
              "      <td>0.340000</td>\n",
              "      <td>0.320000</td>\n",
              "      <td>0.340000</td>\n",
              "    </tr>\n",
              "    <tr>\n",
              "      <th>std</th>\n",
              "      <td>45902.256482</td>\n",
              "      <td>28017.802755</td>\n",
              "      <td>122290.310726</td>\n",
              "      <td>40306.180338</td>\n",
              "      <td>0.478518</td>\n",
              "      <td>0.471212</td>\n",
              "      <td>0.478518</td>\n",
              "    </tr>\n",
              "    <tr>\n",
              "      <th>min</th>\n",
              "      <td>0.000000</td>\n",
              "      <td>51283.140000</td>\n",
              "      <td>0.000000</td>\n",
              "      <td>14681.400000</td>\n",
              "      <td>0.000000</td>\n",
              "      <td>0.000000</td>\n",
              "      <td>0.000000</td>\n",
              "    </tr>\n",
              "    <tr>\n",
              "      <th>25%</th>\n",
              "      <td>39936.370000</td>\n",
              "      <td>103730.875000</td>\n",
              "      <td>129300.132500</td>\n",
              "      <td>90138.902500</td>\n",
              "      <td>0.000000</td>\n",
              "      <td>0.000000</td>\n",
              "      <td>0.000000</td>\n",
              "    </tr>\n",
              "    <tr>\n",
              "      <th>50%</th>\n",
              "      <td>73051.080000</td>\n",
              "      <td>122699.795000</td>\n",
              "      <td>212716.240000</td>\n",
              "      <td>107978.190000</td>\n",
              "      <td>0.000000</td>\n",
              "      <td>0.000000</td>\n",
              "      <td>0.000000</td>\n",
              "    </tr>\n",
              "    <tr>\n",
              "      <th>75%</th>\n",
              "      <td>101602.800000</td>\n",
              "      <td>144842.180000</td>\n",
              "      <td>299469.085000</td>\n",
              "      <td>139765.977500</td>\n",
              "      <td>1.000000</td>\n",
              "      <td>1.000000</td>\n",
              "      <td>1.000000</td>\n",
              "    </tr>\n",
              "    <tr>\n",
              "      <th>max</th>\n",
              "      <td>165349.200000</td>\n",
              "      <td>182645.560000</td>\n",
              "      <td>471784.100000</td>\n",
              "      <td>192261.830000</td>\n",
              "      <td>1.000000</td>\n",
              "      <td>1.000000</td>\n",
              "      <td>1.000000</td>\n",
              "    </tr>\n",
              "  </tbody>\n",
              "</table>\n",
              "</div>\n",
              "      <button class=\"colab-df-convert\" onclick=\"convertToInteractive('df-6a1bac24-c097-488e-99b4-3f44416548fc')\"\n",
              "              title=\"Convert this dataframe to an interactive table.\"\n",
              "              style=\"display:none;\">\n",
              "        \n",
              "  <svg xmlns=\"http://www.w3.org/2000/svg\" height=\"24px\"viewBox=\"0 0 24 24\"\n",
              "       width=\"24px\">\n",
              "    <path d=\"M0 0h24v24H0V0z\" fill=\"none\"/>\n",
              "    <path d=\"M18.56 5.44l.94 2.06.94-2.06 2.06-.94-2.06-.94-.94-2.06-.94 2.06-2.06.94zm-11 1L8.5 8.5l.94-2.06 2.06-.94-2.06-.94L8.5 2.5l-.94 2.06-2.06.94zm10 10l.94 2.06.94-2.06 2.06-.94-2.06-.94-.94-2.06-.94 2.06-2.06.94z\"/><path d=\"M17.41 7.96l-1.37-1.37c-.4-.4-.92-.59-1.43-.59-.52 0-1.04.2-1.43.59L10.3 9.45l-7.72 7.72c-.78.78-.78 2.05 0 2.83L4 21.41c.39.39.9.59 1.41.59.51 0 1.02-.2 1.41-.59l7.78-7.78 2.81-2.81c.8-.78.8-2.07 0-2.86zM5.41 20L4 18.59l7.72-7.72 1.47 1.35L5.41 20z\"/>\n",
              "  </svg>\n",
              "      </button>\n",
              "      \n",
              "  <style>\n",
              "    .colab-df-container {\n",
              "      display:flex;\n",
              "      flex-wrap:wrap;\n",
              "      gap: 12px;\n",
              "    }\n",
              "\n",
              "    .colab-df-convert {\n",
              "      background-color: #E8F0FE;\n",
              "      border: none;\n",
              "      border-radius: 50%;\n",
              "      cursor: pointer;\n",
              "      display: none;\n",
              "      fill: #1967D2;\n",
              "      height: 32px;\n",
              "      padding: 0 0 0 0;\n",
              "      width: 32px;\n",
              "    }\n",
              "\n",
              "    .colab-df-convert:hover {\n",
              "      background-color: #E2EBFA;\n",
              "      box-shadow: 0px 1px 2px rgba(60, 64, 67, 0.3), 0px 1px 3px 1px rgba(60, 64, 67, 0.15);\n",
              "      fill: #174EA6;\n",
              "    }\n",
              "\n",
              "    [theme=dark] .colab-df-convert {\n",
              "      background-color: #3B4455;\n",
              "      fill: #D2E3FC;\n",
              "    }\n",
              "\n",
              "    [theme=dark] .colab-df-convert:hover {\n",
              "      background-color: #434B5C;\n",
              "      box-shadow: 0px 1px 3px 1px rgba(0, 0, 0, 0.15);\n",
              "      filter: drop-shadow(0px 1px 2px rgba(0, 0, 0, 0.3));\n",
              "      fill: #FFFFFF;\n",
              "    }\n",
              "  </style>\n",
              "\n",
              "      <script>\n",
              "        const buttonEl =\n",
              "          document.querySelector('#df-6a1bac24-c097-488e-99b4-3f44416548fc button.colab-df-convert');\n",
              "        buttonEl.style.display =\n",
              "          google.colab.kernel.accessAllowed ? 'block' : 'none';\n",
              "\n",
              "        async function convertToInteractive(key) {\n",
              "          const element = document.querySelector('#df-6a1bac24-c097-488e-99b4-3f44416548fc');\n",
              "          const dataTable =\n",
              "            await google.colab.kernel.invokeFunction('convertToInteractive',\n",
              "                                                     [key], {});\n",
              "          if (!dataTable) return;\n",
              "\n",
              "          const docLinkHtml = 'Like what you see? Visit the ' +\n",
              "            '<a target=\"_blank\" href=https://colab.research.google.com/notebooks/data_table.ipynb>data table notebook</a>'\n",
              "            + ' to learn more about interactive tables.';\n",
              "          element.innerHTML = '';\n",
              "          dataTable['output_type'] = 'display_data';\n",
              "          await google.colab.output.renderOutput(dataTable, element);\n",
              "          const docLink = document.createElement('div');\n",
              "          docLink.innerHTML = docLinkHtml;\n",
              "          element.appendChild(docLink);\n",
              "        }\n",
              "      </script>\n",
              "    </div>\n",
              "  </div>\n",
              "  "
            ]
          },
          "metadata": {},
          "execution_count": 8
        }
      ]
    },
    {
      "cell_type": "code",
      "source": [
        "df1.rename(columns={\"State_New York\":\"State_NY\"},inplace=True)"
      ],
      "metadata": {
        "id": "frXHH7S59mlT"
      },
      "execution_count": null,
      "outputs": []
    },
    {
      "cell_type": "code",
      "source": [
        "df1.isna().sum()"
      ],
      "metadata": {
        "colab": {
          "base_uri": "https://localhost:8080/"
        },
        "id": "kqAXgrWTIDHg",
        "outputId": "53886361-801c-4a16-82a5-b19cd24402f1"
      },
      "execution_count": null,
      "outputs": [
        {
          "output_type": "execute_result",
          "data": {
            "text/plain": [
              "R_D                 0\n",
              "Admin               0\n",
              "M_S                 0\n",
              "Profit              0\n",
              "State_California    0\n",
              "State_Florida       0\n",
              "State_NY            0\n",
              "dtype: int64"
            ]
          },
          "metadata": {},
          "execution_count": 10
        }
      ]
    },
    {
      "cell_type": "code",
      "source": [
        "df1.corr()"
      ],
      "metadata": {
        "colab": {
          "base_uri": "https://localhost:8080/",
          "height": 269
        },
        "id": "87sm2fve_lh_",
        "outputId": "f4149373-745e-4d51-b09a-0570677deffb"
      },
      "execution_count": null,
      "outputs": [
        {
          "output_type": "execute_result",
          "data": {
            "text/plain": [
              "                       R_D     Admin       M_S    Profit  State_California  \\\n",
              "R_D               1.000000  0.241955  0.724248  0.972900         -0.143165   \n",
              "Admin             0.241955  1.000000 -0.032154  0.200717         -0.015478   \n",
              "M_S               0.724248 -0.032154  1.000000  0.747766         -0.168875   \n",
              "Profit            0.972900  0.200717  0.747766  1.000000         -0.145837   \n",
              "State_California -0.143165 -0.015478 -0.168875 -0.145837          1.000000   \n",
              "State_Florida     0.105711  0.010493  0.205685  0.116244         -0.492366   \n",
              "State_NY          0.039068  0.005145 -0.033670  0.031368         -0.515152   \n",
              "\n",
              "                  State_Florida  State_NY  \n",
              "R_D                    0.105711  0.039068  \n",
              "Admin                  0.010493  0.005145  \n",
              "M_S                    0.205685 -0.033670  \n",
              "Profit                 0.116244  0.031368  \n",
              "State_California      -0.492366 -0.515152  \n",
              "State_Florida          1.000000 -0.492366  \n",
              "State_NY              -0.492366  1.000000  "
            ],
            "text/html": [
              "\n",
              "  <div id=\"df-7b9dbf03-b54e-47b8-83dc-9a0039099a60\">\n",
              "    <div class=\"colab-df-container\">\n",
              "      <div>\n",
              "<style scoped>\n",
              "    .dataframe tbody tr th:only-of-type {\n",
              "        vertical-align: middle;\n",
              "    }\n",
              "\n",
              "    .dataframe tbody tr th {\n",
              "        vertical-align: top;\n",
              "    }\n",
              "\n",
              "    .dataframe thead th {\n",
              "        text-align: right;\n",
              "    }\n",
              "</style>\n",
              "<table border=\"1\" class=\"dataframe\">\n",
              "  <thead>\n",
              "    <tr style=\"text-align: right;\">\n",
              "      <th></th>\n",
              "      <th>R_D</th>\n",
              "      <th>Admin</th>\n",
              "      <th>M_S</th>\n",
              "      <th>Profit</th>\n",
              "      <th>State_California</th>\n",
              "      <th>State_Florida</th>\n",
              "      <th>State_NY</th>\n",
              "    </tr>\n",
              "  </thead>\n",
              "  <tbody>\n",
              "    <tr>\n",
              "      <th>R_D</th>\n",
              "      <td>1.000000</td>\n",
              "      <td>0.241955</td>\n",
              "      <td>0.724248</td>\n",
              "      <td>0.972900</td>\n",
              "      <td>-0.143165</td>\n",
              "      <td>0.105711</td>\n",
              "      <td>0.039068</td>\n",
              "    </tr>\n",
              "    <tr>\n",
              "      <th>Admin</th>\n",
              "      <td>0.241955</td>\n",
              "      <td>1.000000</td>\n",
              "      <td>-0.032154</td>\n",
              "      <td>0.200717</td>\n",
              "      <td>-0.015478</td>\n",
              "      <td>0.010493</td>\n",
              "      <td>0.005145</td>\n",
              "    </tr>\n",
              "    <tr>\n",
              "      <th>M_S</th>\n",
              "      <td>0.724248</td>\n",
              "      <td>-0.032154</td>\n",
              "      <td>1.000000</td>\n",
              "      <td>0.747766</td>\n",
              "      <td>-0.168875</td>\n",
              "      <td>0.205685</td>\n",
              "      <td>-0.033670</td>\n",
              "    </tr>\n",
              "    <tr>\n",
              "      <th>Profit</th>\n",
              "      <td>0.972900</td>\n",
              "      <td>0.200717</td>\n",
              "      <td>0.747766</td>\n",
              "      <td>1.000000</td>\n",
              "      <td>-0.145837</td>\n",
              "      <td>0.116244</td>\n",
              "      <td>0.031368</td>\n",
              "    </tr>\n",
              "    <tr>\n",
              "      <th>State_California</th>\n",
              "      <td>-0.143165</td>\n",
              "      <td>-0.015478</td>\n",
              "      <td>-0.168875</td>\n",
              "      <td>-0.145837</td>\n",
              "      <td>1.000000</td>\n",
              "      <td>-0.492366</td>\n",
              "      <td>-0.515152</td>\n",
              "    </tr>\n",
              "    <tr>\n",
              "      <th>State_Florida</th>\n",
              "      <td>0.105711</td>\n",
              "      <td>0.010493</td>\n",
              "      <td>0.205685</td>\n",
              "      <td>0.116244</td>\n",
              "      <td>-0.492366</td>\n",
              "      <td>1.000000</td>\n",
              "      <td>-0.492366</td>\n",
              "    </tr>\n",
              "    <tr>\n",
              "      <th>State_NY</th>\n",
              "      <td>0.039068</td>\n",
              "      <td>0.005145</td>\n",
              "      <td>-0.033670</td>\n",
              "      <td>0.031368</td>\n",
              "      <td>-0.515152</td>\n",
              "      <td>-0.492366</td>\n",
              "      <td>1.000000</td>\n",
              "    </tr>\n",
              "  </tbody>\n",
              "</table>\n",
              "</div>\n",
              "      <button class=\"colab-df-convert\" onclick=\"convertToInteractive('df-7b9dbf03-b54e-47b8-83dc-9a0039099a60')\"\n",
              "              title=\"Convert this dataframe to an interactive table.\"\n",
              "              style=\"display:none;\">\n",
              "        \n",
              "  <svg xmlns=\"http://www.w3.org/2000/svg\" height=\"24px\"viewBox=\"0 0 24 24\"\n",
              "       width=\"24px\">\n",
              "    <path d=\"M0 0h24v24H0V0z\" fill=\"none\"/>\n",
              "    <path d=\"M18.56 5.44l.94 2.06.94-2.06 2.06-.94-2.06-.94-.94-2.06-.94 2.06-2.06.94zm-11 1L8.5 8.5l.94-2.06 2.06-.94-2.06-.94L8.5 2.5l-.94 2.06-2.06.94zm10 10l.94 2.06.94-2.06 2.06-.94-2.06-.94-.94-2.06-.94 2.06-2.06.94z\"/><path d=\"M17.41 7.96l-1.37-1.37c-.4-.4-.92-.59-1.43-.59-.52 0-1.04.2-1.43.59L10.3 9.45l-7.72 7.72c-.78.78-.78 2.05 0 2.83L4 21.41c.39.39.9.59 1.41.59.51 0 1.02-.2 1.41-.59l7.78-7.78 2.81-2.81c.8-.78.8-2.07 0-2.86zM5.41 20L4 18.59l7.72-7.72 1.47 1.35L5.41 20z\"/>\n",
              "  </svg>\n",
              "      </button>\n",
              "      \n",
              "  <style>\n",
              "    .colab-df-container {\n",
              "      display:flex;\n",
              "      flex-wrap:wrap;\n",
              "      gap: 12px;\n",
              "    }\n",
              "\n",
              "    .colab-df-convert {\n",
              "      background-color: #E8F0FE;\n",
              "      border: none;\n",
              "      border-radius: 50%;\n",
              "      cursor: pointer;\n",
              "      display: none;\n",
              "      fill: #1967D2;\n",
              "      height: 32px;\n",
              "      padding: 0 0 0 0;\n",
              "      width: 32px;\n",
              "    }\n",
              "\n",
              "    .colab-df-convert:hover {\n",
              "      background-color: #E2EBFA;\n",
              "      box-shadow: 0px 1px 2px rgba(60, 64, 67, 0.3), 0px 1px 3px 1px rgba(60, 64, 67, 0.15);\n",
              "      fill: #174EA6;\n",
              "    }\n",
              "\n",
              "    [theme=dark] .colab-df-convert {\n",
              "      background-color: #3B4455;\n",
              "      fill: #D2E3FC;\n",
              "    }\n",
              "\n",
              "    [theme=dark] .colab-df-convert:hover {\n",
              "      background-color: #434B5C;\n",
              "      box-shadow: 0px 1px 3px 1px rgba(0, 0, 0, 0.15);\n",
              "      filter: drop-shadow(0px 1px 2px rgba(0, 0, 0, 0.3));\n",
              "      fill: #FFFFFF;\n",
              "    }\n",
              "  </style>\n",
              "\n",
              "      <script>\n",
              "        const buttonEl =\n",
              "          document.querySelector('#df-7b9dbf03-b54e-47b8-83dc-9a0039099a60 button.colab-df-convert');\n",
              "        buttonEl.style.display =\n",
              "          google.colab.kernel.accessAllowed ? 'block' : 'none';\n",
              "\n",
              "        async function convertToInteractive(key) {\n",
              "          const element = document.querySelector('#df-7b9dbf03-b54e-47b8-83dc-9a0039099a60');\n",
              "          const dataTable =\n",
              "            await google.colab.kernel.invokeFunction('convertToInteractive',\n",
              "                                                     [key], {});\n",
              "          if (!dataTable) return;\n",
              "\n",
              "          const docLinkHtml = 'Like what you see? Visit the ' +\n",
              "            '<a target=\"_blank\" href=https://colab.research.google.com/notebooks/data_table.ipynb>data table notebook</a>'\n",
              "            + ' to learn more about interactive tables.';\n",
              "          element.innerHTML = '';\n",
              "          dataTable['output_type'] = 'display_data';\n",
              "          await google.colab.output.renderOutput(dataTable, element);\n",
              "          const docLink = document.createElement('div');\n",
              "          docLink.innerHTML = docLinkHtml;\n",
              "          element.appendChild(docLink);\n",
              "        }\n",
              "      </script>\n",
              "    </div>\n",
              "  </div>\n",
              "  "
            ]
          },
          "metadata": {},
          "execution_count": 11
        }
      ]
    },
    {
      "cell_type": "markdown",
      "source": [
        "**Here our target variable is \"Profit\" and inputs are \"R&D Spend, Administration, Marketing Spend, State_California, State_Florida, State_New York\"**\t"
      ],
      "metadata": {
        "id": "dXds6XPuDLdH"
      }
    },
    {
      "cell_type": "code",
      "source": [
        "sns.set_style(style='darkgrid')\n",
        "sns.pairplot(df1)"
      ],
      "metadata": {
        "colab": {
          "base_uri": "https://localhost:8080/",
          "height": 1000
        },
        "id": "Pey24yNL_9bV",
        "outputId": "1a479db9-69fd-44f8-a3f5-14841dde0ae9"
      },
      "execution_count": null,
      "outputs": [
        {
          "output_type": "execute_result",
          "data": {
            "text/plain": [
              "<seaborn.axisgrid.PairGrid at 0x7f42ed3c8810>"
            ]
          },
          "metadata": {},
          "execution_count": 12
        },
        {
          "output_type": "display_data",
          "data": {
            "text/plain": [
              "<Figure size 1260x1260 with 56 Axes>"
            ],
            "image/png": "[encoded data removed]"
          },
          "metadata": {}
        }
      ]
    },
    {
      "cell_type": "code",
      "source": [
        "sns.heatmap(df1.corr(), annot=True)"
      ],
      "metadata": {
        "colab": {
          "base_uri": "https://localhost:8080/",
          "height": 356
        },
        "id": "FQYqgtnEArIC",
        "outputId": "51386cab-4329-4247-8b52-0fff741dc453"
      },
      "execution_count": null,
      "outputs": [
        {
          "output_type": "execute_result",
          "data": {
            "text/plain": [
              "<matplotlib.axes._subplots.AxesSubplot at 0x7f42e982e790>"
            ]
          },
          "metadata": {},
          "execution_count": 13
        },
        {
          "output_type": "display_data",
          "data": {
            "text/plain": [
              "<Figure size 432x288 with 2 Axes>"
            ],
            "image/png": "[encoded data removed]"
          },
          "metadata": {}
        }
      ]
    },
    {
      "cell_type": "markdown",
      "source": [
        "# Building model"
      ],
      "metadata": {
        "id": "oAKlecQWELkI"
      }
    },
    {
      "cell_type": "code",
      "source": [
        "model = smf.ols('Profit~R_D+Admin+M_S\t+State_California+State_Florida+State_NY', data=df1).fit()"
      ],
      "metadata": {
        "id": "xaIbLtzT3RZI"
      },
      "execution_count": null,
      "outputs": []
    },
    {
      "cell_type": "code",
      "source": [
        "model.summary()"
      ],
      "metadata": {
        "colab": {
          "base_uri": "https://localhost:8080/",
          "height": 588
        },
        "id": "7vwQIOEW39lE",
        "outputId": "de6e8c63-9a64-444d-9c89-d6c344f9ba61"
      },
      "execution_count": null,
      "outputs": [
        {
          "output_type": "execute_result",
          "data": {
            "text/plain": [
              "<class 'statsmodels.iolib.summary.Summary'>\n",
              "\"\"\"\n",
              "                            OLS Regression Results                            \n",
              "==============================================================================\n",
              "Dep. Variable:                 Profit   R-squared:                       0.951\n",
              "Model:                            OLS   Adj. R-squared:                  0.945\n",
              "Method:                 Least Squares   F-statistic:                     169.9\n",
              "Date:                Wed, 21 Sep 2022   Prob (F-statistic):           1.34e-27\n",
              "Time:                        08:42:38   Log-Likelihood:                -525.38\n",
              "No. Observations:                  50   AIC:                             1063.\n",
              "Df Residuals:                      44   BIC:                             1074.\n",
              "Df Model:                           5                                         \n",
              "Covariance Type:            nonrobust                                         \n",
              "====================================================================================\n",
              "                       coef    std err          t      P>|t|      [0.025      0.975]\n",
              "------------------------------------------------------------------------------------\n",
              "Intercept         3.763e+04   5073.636      7.417      0.000    2.74e+04    4.79e+04\n",
              "R_D                  0.8060      0.046     17.369      0.000       0.712       0.900\n",
              "Admin               -0.0270      0.052     -0.517      0.608      -0.132       0.078\n",
              "M_S                  0.0270      0.017      1.574      0.123      -0.008       0.062\n",
              "State_California  1.249e+04   2449.797      5.099      0.000    7554.868    1.74e+04\n",
              "State_Florida     1.269e+04   2726.700      4.654      0.000    7195.596    1.82e+04\n",
              "State_NY          1.245e+04   2486.364      5.007      0.000    7439.285    1.75e+04\n",
              "==============================================================================\n",
              "Omnibus:                       14.782   Durbin-Watson:                   1.283\n",
              "Prob(Omnibus):                  0.001   Jarque-Bera (JB):               21.266\n",
              "Skew:                          -0.948   Prob(JB):                     2.41e-05\n",
              "Kurtosis:                       5.572   Cond. No.                     3.48e+21\n",
              "==============================================================================\n",
              "\n",
              "Notes:\n",
              "[1] Standard Errors assume that the covariance matrix of the errors is correctly specified.\n",
              "[2] The smallest eigenvalue is 3.2e-31. This might indicate that there are\n",
              "strong multicollinearity problems or that the design matrix is singular.\n",
              "\"\"\""
            ],
            "text/html": [
              "<table class=\"simpletable\">\n",
              "<caption>OLS Regression Results</caption>\n",
              "<tr>\n",
              "  <th>Dep. Variable:</th>         <td>Profit</td>      <th>  R-squared:         </th> <td>   0.951</td>\n",
              "</tr>\n",
              "<tr>\n",
              "  <th>Model:</th>                   <td>OLS</td>       <th>  Adj. R-squared:    </th> <td>   0.945</td>\n",
              "</tr>\n",
              "<tr>\n",
              "  <th>Method:</th>             <td>Least Squares</td>  <th>  F-statistic:       </th> <td>   169.9</td>\n",
              "</tr>\n",
              "<tr>\n",
              "  <th>Date:</th>             <td>Wed, 21 Sep 2022</td> <th>  Prob (F-statistic):</th> <td>1.34e-27</td>\n",
              "</tr>\n",
              "<tr>\n",
              "  <th>Time:</th>                 <td>08:42:38</td>     <th>  Log-Likelihood:    </th> <td> -525.38</td>\n",
              "</tr>\n",
              "<tr>\n",
              "  <th>No. Observations:</th>      <td>    50</td>      <th>  AIC:               </th> <td>   1063.</td>\n",
              "</tr>\n",
              "<tr>\n",
              "  <th>Df Residuals:</th>          <td>    44</td>      <th>  BIC:               </th> <td>   1074.</td>\n",
              "</tr>\n",
              "<tr>\n",
              "  <th>Df Model:</th>              <td>     5</td>      <th>                     </th>     <td> </td>   \n",
              "</tr>\n",
              "<tr>\n",
              "  <th>Covariance Type:</th>      <td>nonrobust</td>    <th>                     </th>     <td> </td>   \n",
              "</tr>\n",
              "</table>\n",
              "<table class=\"simpletable\">\n",
              "<tr>\n",
              "          <td></td>            <th>coef</th>     <th>std err</th>      <th>t</th>      <th>P>|t|</th>  <th>[0.025</th>    <th>0.975]</th>  \n",
              "</tr>\n",
              "<tr>\n",
              "  <th>Intercept</th>        <td> 3.763e+04</td> <td> 5073.636</td> <td>    7.417</td> <td> 0.000</td> <td> 2.74e+04</td> <td> 4.79e+04</td>\n",
              "</tr>\n",
              "<tr>\n",
              "  <th>R_D</th>              <td>    0.8060</td> <td>    0.046</td> <td>   17.369</td> <td> 0.000</td> <td>    0.712</td> <td>    0.900</td>\n",
              "</tr>\n",
              "<tr>\n",
              "  <th>Admin</th>            <td>   -0.0270</td> <td>    0.052</td> <td>   -0.517</td> <td> 0.608</td> <td>   -0.132</td> <td>    0.078</td>\n",
              "</tr>\n",
              "<tr>\n",
              "  <th>M_S</th>              <td>    0.0270</td> <td>    0.017</td> <td>    1.574</td> <td> 0.123</td> <td>   -0.008</td> <td>    0.062</td>\n",
              "</tr>\n",
              "<tr>\n",
              "  <th>State_California</th> <td> 1.249e+04</td> <td> 2449.797</td> <td>    5.099</td> <td> 0.000</td> <td> 7554.868</td> <td> 1.74e+04</td>\n",
              "</tr>\n",
              "<tr>\n",
              "  <th>State_Florida</th>    <td> 1.269e+04</td> <td> 2726.700</td> <td>    4.654</td> <td> 0.000</td> <td> 7195.596</td> <td> 1.82e+04</td>\n",
              "</tr>\n",
              "<tr>\n",
              "  <th>State_NY</th>         <td> 1.245e+04</td> <td> 2486.364</td> <td>    5.007</td> <td> 0.000</td> <td> 7439.285</td> <td> 1.75e+04</td>\n",
              "</tr>\n",
              "</table>\n",
              "<table class=\"simpletable\">\n",
              "<tr>\n",
              "  <th>Omnibus:</th>       <td>14.782</td> <th>  Durbin-Watson:     </th> <td>   1.283</td>\n",
              "</tr>\n",
              "<tr>\n",
              "  <th>Prob(Omnibus):</th> <td> 0.001</td> <th>  Jarque-Bera (JB):  </th> <td>  21.266</td>\n",
              "</tr>\n",
              "<tr>\n",
              "  <th>Skew:</th>          <td>-0.948</td> <th>  Prob(JB):          </th> <td>2.41e-05</td>\n",
              "</tr>\n",
              "<tr>\n",
              "  <th>Kurtosis:</th>      <td> 5.572</td> <th>  Cond. No.          </th> <td>3.48e+21</td>\n",
              "</tr>\n",
              "</table><br/><br/>Notes:<br/>[1] Standard Errors assume that the covariance matrix of the errors is correctly specified.<br/>[2] The smallest eigenvalue is 3.2e-31. This might indicate that there are<br/>strong multicollinearity problems or that the design matrix is singular."
            ]
          },
          "metadata": {},
          "execution_count": 15
        }
      ]
    },
    {
      "cell_type": "markdown",
      "source": [
        "**Observation :- As we can see our R sq value and p-values are good and model may be accepted but not all p-value be acceptable as they have heigher significant value**\n",
        "- **Variable \"Admin\" is insignificant to predict \"Profit\" as p-value is > significant value (0.05). We can also drop this variable**"
      ],
      "metadata": {
        "id": "2llnFffYvPub"
      }
    },
    {
      "cell_type": "markdown",
      "source": [
        "# Cheaking the Normality "
      ],
      "metadata": {
        "id": "ARlqWTxryGjt"
      }
    },
    {
      "cell_type": "code",
      "source": [
        "import statsmodels.api as sm\n",
        "qqplot=sm.qqplot(model.resid,line='r')\n",
        "plt.title(\"NormalQQ Plot\")\n",
        "plt.show()"
      ],
      "metadata": {
        "colab": {
          "base_uri": "https://localhost:8080/",
          "height": 295
        },
        "id": "HCq1VmimyF8y",
        "outputId": "6cd13de9-cafb-4eeb-f391-68e0d6c64c71"
      },
      "execution_count": null,
      "outputs": [
        {
          "output_type": "display_data",
          "data": {
            "text/plain": [
              "<Figure size 432x288 with 1 Axes>"
            ],
            "image/png": "[encoded data removed]"
          },
          "metadata": {}
        }
      ]
    },
    {
      "cell_type": "markdown",
      "source": [
        "**Observation :- As our model is skewed to word the left and one outlier is present in the model.**"
      ],
      "metadata": {
        "id": "0JCaIcXd1px-"
      }
    },
    {
      "cell_type": "markdown",
      "source": [
        "# Finding multicollinearity by VIF"
      ],
      "metadata": {
        "id": "ptqSlNrDxJ_y"
      }
    },
    {
      "cell_type": "markdown",
      "source": [
        "# Calculating VIF for model"
      ],
      "metadata": {
        "id": "fIEO5e2xAYP3"
      }
    },
    {
      "cell_type": "code",
      "source": [
        "rsq_rd=smf.ols('R_D~Admin+M_S\t+State_California+State_Florida+State_NY',data=df1).fit().rsquared\n",
        "vif_rd=1/(1-rsq_rd)\n",
        "vif_rd"
      ],
      "metadata": {
        "colab": {
          "base_uri": "https://localhost:8080/"
        },
        "id": "JjQh2_XF4xEQ",
        "outputId": "94620960-3510-4096-c9cc-be99d7a4a90a"
      },
      "execution_count": null,
      "outputs": [
        {
          "output_type": "execute_result",
          "data": {
            "text/plain": [
              "2.4955109215494433"
            ]
          },
          "metadata": {},
          "execution_count": 17
        }
      ]
    },
    {
      "cell_type": "code",
      "source": [
        "rsq_admin=smf.ols('Admin~R_D+M_S+State_California+State_Florida+State_NY',data=df1).fit().rsquared\n",
        "vif_admin=1/(1-rsq_admin) # \n",
        "vif_admin\n"
      ],
      "metadata": {
        "colab": {
          "base_uri": "https://localhost:8080/"
        },
        "id": "eB5T8-QjD0Ej",
        "outputId": "1a716af7-d698-4e68-c3b9-cfffa01a9865"
      },
      "execution_count": null,
      "outputs": [
        {
          "output_type": "execute_result",
          "data": {
            "text/plain": [
              "1.177766050899384"
            ]
          },
          "metadata": {},
          "execution_count": 18
        }
      ]
    },
    {
      "cell_type": "code",
      "source": [
        "rsq_ms=smf.ols('M_S~R_D+Admin+State_California+State_Florida+State_NY',data=df1).fit().rsquared\n",
        "vif_ms=1/(1-rsq_ms) # \n",
        "vif_ms\n"
      ],
      "metadata": {
        "colab": {
          "base_uri": "https://localhost:8080/"
        },
        "id": "eCQpt5mfFfBr",
        "outputId": "a7349a37-618d-4c0a-a6b3-8d8c08d6f2ee"
      },
      "execution_count": null,
      "outputs": [
        {
          "output_type": "execute_result",
          "data": {
            "text/plain": [
              "2.4167967566863933"
            ]
          },
          "metadata": {},
          "execution_count": 19
        }
      ]
    },
    {
      "cell_type": "code",
      "source": [
        "Vif= {\"Variabel\":[\"R_D\",\"Admin\", \"M_S\"], 'VIF':[vif_rd,vif_admin,vif_ms]}\n",
        "vif_fram=pd.DataFrame(Vif)\n",
        "vif_fram"
      ],
      "metadata": {
        "colab": {
          "base_uri": "https://localhost:8080/",
          "height": 143
        },
        "id": "H-9df-veG9_d",
        "outputId": "0e713707-b10c-4927-b3b1-9e6567591678"
      },
      "execution_count": null,
      "outputs": [
        {
          "output_type": "execute_result",
          "data": {
            "text/plain": [
              "  Variabel       VIF\n",
              "0      R_D  2.495511\n",
              "1    Admin  1.177766\n",
              "2      M_S  2.416797"
            ],
            "text/html": [
              "\n",
              "  <div id=\"df-c0af97fa-6101-4417-84d4-461ada9d3ee6\">\n",
              "    <div class=\"colab-df-container\">\n",
              "      <div>\n",
              "<style scoped>\n",
              "    .dataframe tbody tr th:only-of-type {\n",
              "        vertical-align: middle;\n",
              "    }\n",
              "\n",
              "    .dataframe tbody tr th {\n",
              "        vertical-align: top;\n",
              "    }\n",
              "\n",
              "    .dataframe thead th {\n",
              "        text-align: right;\n",
              "    }\n",
              "</style>\n",
              "<table border=\"1\" class=\"dataframe\">\n",
              "  <thead>\n",
              "    <tr style=\"text-align: right;\">\n",
              "      <th></th>\n",
              "      <th>Variabel</th>\n",
              "      <th>VIF</th>\n",
              "    </tr>\n",
              "  </thead>\n",
              "  <tbody>\n",
              "    <tr>\n",
              "      <th>0</th>\n",
              "      <td>R_D</td>\n",
              "      <td>2.495511</td>\n",
              "    </tr>\n",
              "    <tr>\n",
              "      <th>1</th>\n",
              "      <td>Admin</td>\n",
              "      <td>1.177766</td>\n",
              "    </tr>\n",
              "    <tr>\n",
              "      <th>2</th>\n",
              "      <td>M_S</td>\n",
              "      <td>2.416797</td>\n",
              "    </tr>\n",
              "  </tbody>\n",
              "</table>\n",
              "</div>\n",
              "      <button class=\"colab-df-convert\" onclick=\"convertToInteractive('df-c0af97fa-6101-4417-84d4-461ada9d3ee6')\"\n",
              "              title=\"Convert this dataframe to an interactive table.\"\n",
              "              style=\"display:none;\">\n",
              "        \n",
              "  <svg xmlns=\"http://www.w3.org/2000/svg\" height=\"24px\"viewBox=\"0 0 24 24\"\n",
              "       width=\"24px\">\n",
              "    <path d=\"M0 0h24v24H0V0z\" fill=\"none\"/>\n",
              "    <path d=\"M18.56 5.44l.94 2.06.94-2.06 2.06-.94-2.06-.94-.94-2.06-.94 2.06-2.06.94zm-11 1L8.5 8.5l.94-2.06 2.06-.94-2.06-.94L8.5 2.5l-.94 2.06-2.06.94zm10 10l.94 2.06.94-2.06 2.06-.94-2.06-.94-.94-2.06-.94 2.06-2.06.94z\"/><path d=\"M17.41 7.96l-1.37-1.37c-.4-.4-.92-.59-1.43-.59-.52 0-1.04.2-1.43.59L10.3 9.45l-7.72 7.72c-.78.78-.78 2.05 0 2.83L4 21.41c.39.39.9.59 1.41.59.51 0 1.02-.2 1.41-.59l7.78-7.78 2.81-2.81c.8-.78.8-2.07 0-2.86zM5.41 20L4 18.59l7.72-7.72 1.47 1.35L5.41 20z\"/>\n",
              "  </svg>\n",
              "      </button>\n",
              "      \n",
              "  <style>\n",
              "    .colab-df-container {\n",
              "      display:flex;\n",
              "      flex-wrap:wrap;\n",
              "      gap: 12px;\n",
              "    }\n",
              "\n",
              "    .colab-df-convert {\n",
              "      background-color: #E8F0FE;\n",
              "      border: none;\n",
              "      border-radius: 50%;\n",
              "      cursor: pointer;\n",
              "      display: none;\n",
              "      fill: #1967D2;\n",
              "      height: 32px;\n",
              "      padding: 0 0 0 0;\n",
              "      width: 32px;\n",
              "    }\n",
              "\n",
              "    .colab-df-convert:hover {\n",
              "      background-color: #E2EBFA;\n",
              "      box-shadow: 0px 1px 2px rgba(60, 64, 67, 0.3), 0px 1px 3px 1px rgba(60, 64, 67, 0.15);\n",
              "      fill: #174EA6;\n",
              "    }\n",
              "\n",
              "    [theme=dark] .colab-df-convert {\n",
              "      background-color: #3B4455;\n",
              "      fill: #D2E3FC;\n",
              "    }\n",
              "\n",
              "    [theme=dark] .colab-df-convert:hover {\n",
              "      background-color: #434B5C;\n",
              "      box-shadow: 0px 1px 3px 1px rgba(0, 0, 0, 0.15);\n",
              "      filter: drop-shadow(0px 1px 2px rgba(0, 0, 0, 0.3));\n",
              "      fill: #FFFFFF;\n",
              "    }\n",
              "  </style>\n",
              "\n",
              "      <script>\n",
              "        const buttonEl =\n",
              "          document.querySelector('#df-c0af97fa-6101-4417-84d4-461ada9d3ee6 button.colab-df-convert');\n",
              "        buttonEl.style.display =\n",
              "          google.colab.kernel.accessAllowed ? 'block' : 'none';\n",
              "\n",
              "        async function convertToInteractive(key) {\n",
              "          const element = document.querySelector('#df-c0af97fa-6101-4417-84d4-461ada9d3ee6');\n",
              "          const dataTable =\n",
              "            await google.colab.kernel.invokeFunction('convertToInteractive',\n",
              "                                                     [key], {});\n",
              "          if (!dataTable) return;\n",
              "\n",
              "          const docLinkHtml = 'Like what you see? Visit the ' +\n",
              "            '<a target=\"_blank\" href=https://colab.research.google.com/notebooks/data_table.ipynb>data table notebook</a>'\n",
              "            + ' to learn more about interactive tables.';\n",
              "          element.innerHTML = '';\n",
              "          dataTable['output_type'] = 'display_data';\n",
              "          await google.colab.output.renderOutput(dataTable, element);\n",
              "          const docLink = document.createElement('div');\n",
              "          docLink.innerHTML = docLinkHtml;\n",
              "          element.appendChild(docLink);\n",
              "        }\n",
              "      </script>\n",
              "    </div>\n",
              "  </div>\n",
              "  "
            ]
          },
          "metadata": {},
          "execution_count": 20
        }
      ]
    },
    {
      "cell_type": "markdown",
      "source": [
        "**As we can see \"Admin\" has lowest variance inflation facter So, we can remove \"admin\" variable to improve our model**"
      ],
      "metadata": {
        "id": "304jC9E-J3hk"
      }
    },
    {
      "cell_type": "markdown",
      "source": [
        "# Finding multicollinearity with Cook's Distance"
      ],
      "metadata": {
        "id": "wKtBAVNONv6I"
      }
    },
    {
      "cell_type": "code",
      "source": [
        "model_infl=model.get_influence()\n",
        "(c, _)=model_infl.cooks_distance"
      ],
      "metadata": {
        "id": "WyOnBEtbLSzd"
      },
      "execution_count": null,
      "outputs": []
    },
    {
      "cell_type": "code",
      "source": [
        "#Ploting the influencers values using stem plot\n",
        "plt.stem(np.arange(len(df1)),np.round(c, 3))\n",
        "plt.xlabel(\"Row index\")\n",
        "plt.ylabel(\"Cooks Distance\")\n",
        "plt.show()"
      ],
      "metadata": {
        "colab": {
          "base_uri": "https://localhost:8080/",
          "height": 336
        },
        "outputId": "642648b5-542d-495a-9a81-6d6c6822c00d",
        "id": "dAIo4dwFLac1"
      },
      "execution_count": null,
      "outputs": [
        {
          "output_type": "stream",
          "name": "stderr",
          "text": [
            "/usr/local/lib/python3.7/dist-packages/ipykernel_launcher.py:2: UserWarning: In Matplotlib 3.3 individual lines on a stem plot will be added as a LineCollection instead of individual lines. This significantly improves the performance of a stem plot. To remove this warning and switch to the new behaviour, set the \"use_line_collection\" keyword argument to True.\n",
            "  \n"
          ]
        },
        {
          "output_type": "display_data",
          "data": {
            "text/plain": [
              "<Figure size 432x288 with 1 Axes>"
            ],
            "image/png": "[encoded data removed]"
          },
          "metadata": {}
        }
      ]
    },
    {
      "cell_type": "code",
      "source": [
        "(np.argmax(c), np.max(c))"
      ],
      "metadata": {
        "colab": {
          "base_uri": "https://localhost:8080/"
        },
        "outputId": "ba55884b-a1ed-4b9e-a68c-b54b3a1161df",
        "id": "U4pJKXyTLiv_"
      },
      "execution_count": null,
      "outputs": [
        {
          "output_type": "execute_result",
          "data": {
            "text/plain": [
              "(49, 0.22625094501509282)"
            ]
          },
          "metadata": {},
          "execution_count": 23
        }
      ]
    },
    {
      "cell_type": "markdown",
      "source": [
        "**Since the value is < 1, but still we can drop the \"49\" row from the dataset and re-biuld the model** "
      ],
      "metadata": {
        "id": "IvK3oMZyLnod"
      }
    },
    {
      "cell_type": "markdown",
      "source": [
        "# Dropping the row"
      ],
      "metadata": {
        "id": "v-4uP8NeMvvx"
      }
    },
    {
      "cell_type": "code",
      "source": [
        "# Dropping 49 row from dataset\n",
        "df1.drop(index=[49],inplace=True)"
      ],
      "metadata": {
        "id": "8z_JXl9mLpF4"
      },
      "execution_count": null,
      "outputs": []
    },
    {
      "cell_type": "markdown",
      "source": [
        "#Building Final model after dopping 49th row and \"Admin\" variabel"
      ],
      "metadata": {
        "id": "45Er4alJNmZ5"
      }
    },
    {
      "cell_type": "code",
      "source": [
        "model2 = smf.ols('Profit~R_D+M_S+State_California+State_Florida+State_NY',data=df1).fit()\n",
        "model2.summary()"
      ],
      "metadata": {
        "colab": {
          "base_uri": "https://localhost:8080/",
          "height": 567
        },
        "id": "HIZ55C5YNKOm",
        "outputId": "c3e799e9-d963-4c66-ef48-746081f10792"
      },
      "execution_count": null,
      "outputs": [
        {
          "output_type": "execute_result",
          "data": {
            "text/plain": [
              "<class 'statsmodels.iolib.summary.Summary'>\n",
              "\"\"\"\n",
              "                            OLS Regression Results                            \n",
              "==============================================================================\n",
              "Dep. Variable:                 Profit   R-squared:                       0.962\n",
              "Model:                            OLS   Adj. R-squared:                  0.958\n",
              "Method:                 Least Squares   F-statistic:                     275.3\n",
              "Date:                Wed, 21 Sep 2022   Prob (F-statistic):           1.60e-30\n",
              "Time:                        08:42:39   Log-Likelihood:                -506.11\n",
              "No. Observations:                  49   AIC:                             1022.\n",
              "Df Residuals:                      44   BIC:                             1032.\n",
              "Df Model:                           4                                         \n",
              "Covariance Type:            nonrobust                                         \n",
              "====================================================================================\n",
              "                       coef    std err          t      P>|t|      [0.025      0.975]\n",
              "------------------------------------------------------------------------------------\n",
              "Intercept         3.722e+04   1805.972     20.607      0.000    3.36e+04    4.09e+04\n",
              "R_D                  0.7760      0.036     21.721      0.000       0.704       0.848\n",
              "M_S                  0.0281      0.013      2.082      0.043       0.001       0.055\n",
              "State_California  1.359e+04   1647.590      8.249      0.000    1.03e+04    1.69e+04\n",
              "State_Florida     1.197e+04   1812.249      6.608      0.000    8322.556    1.56e+04\n",
              "State_NY          1.165e+04   1659.753      7.019      0.000    8305.166     1.5e+04\n",
              "==============================================================================\n",
              "Omnibus:                        0.123   Durbin-Watson:                   1.619\n",
              "Prob(Omnibus):                  0.940   Jarque-Bera (JB):                0.292\n",
              "Skew:                           0.093   Prob(JB):                        0.864\n",
              "Kurtosis:                       2.670   Cond. No.                     6.06e+21\n",
              "==============================================================================\n",
              "\n",
              "Notes:\n",
              "[1] Standard Errors assume that the covariance matrix of the errors is correctly specified.\n",
              "[2] The smallest eigenvalue is 8.96e-32. This might indicate that there are\n",
              "strong multicollinearity problems or that the design matrix is singular.\n",
              "\"\"\""
            ],
            "text/html": [
              "<table class=\"simpletable\">\n",
              "<caption>OLS Regression Results</caption>\n",
              "<tr>\n",
              "  <th>Dep. Variable:</th>         <td>Profit</td>      <th>  R-squared:         </th> <td>   0.962</td>\n",
              "</tr>\n",
              "<tr>\n",
              "  <th>Model:</th>                   <td>OLS</td>       <th>  Adj. R-squared:    </th> <td>   0.958</td>\n",
              "</tr>\n",
              "<tr>\n",
              "  <th>Method:</th>             <td>Least Squares</td>  <th>  F-statistic:       </th> <td>   275.3</td>\n",
              "</tr>\n",
              "<tr>\n",
              "  <th>Date:</th>             <td>Wed, 21 Sep 2022</td> <th>  Prob (F-statistic):</th> <td>1.60e-30</td>\n",
              "</tr>\n",
              "<tr>\n",
              "  <th>Time:</th>                 <td>08:42:39</td>     <th>  Log-Likelihood:    </th> <td> -506.11</td>\n",
              "</tr>\n",
              "<tr>\n",
              "  <th>No. Observations:</th>      <td>    49</td>      <th>  AIC:               </th> <td>   1022.</td>\n",
              "</tr>\n",
              "<tr>\n",
              "  <th>Df Residuals:</th>          <td>    44</td>      <th>  BIC:               </th> <td>   1032.</td>\n",
              "</tr>\n",
              "<tr>\n",
              "  <th>Df Model:</th>              <td>     4</td>      <th>                     </th>     <td> </td>   \n",
              "</tr>\n",
              "<tr>\n",
              "  <th>Covariance Type:</th>      <td>nonrobust</td>    <th>                     </th>     <td> </td>   \n",
              "</tr>\n",
              "</table>\n",
              "<table class=\"simpletable\">\n",
              "<tr>\n",
              "          <td></td>            <th>coef</th>     <th>std err</th>      <th>t</th>      <th>P>|t|</th>  <th>[0.025</th>    <th>0.975]</th>  \n",
              "</tr>\n",
              "<tr>\n",
              "  <th>Intercept</th>        <td> 3.722e+04</td> <td> 1805.972</td> <td>   20.607</td> <td> 0.000</td> <td> 3.36e+04</td> <td> 4.09e+04</td>\n",
              "</tr>\n",
              "<tr>\n",
              "  <th>R_D</th>              <td>    0.7760</td> <td>    0.036</td> <td>   21.721</td> <td> 0.000</td> <td>    0.704</td> <td>    0.848</td>\n",
              "</tr>\n",
              "<tr>\n",
              "  <th>M_S</th>              <td>    0.0281</td> <td>    0.013</td> <td>    2.082</td> <td> 0.043</td> <td>    0.001</td> <td>    0.055</td>\n",
              "</tr>\n",
              "<tr>\n",
              "  <th>State_California</th> <td> 1.359e+04</td> <td> 1647.590</td> <td>    8.249</td> <td> 0.000</td> <td> 1.03e+04</td> <td> 1.69e+04</td>\n",
              "</tr>\n",
              "<tr>\n",
              "  <th>State_Florida</th>    <td> 1.197e+04</td> <td> 1812.249</td> <td>    6.608</td> <td> 0.000</td> <td> 8322.556</td> <td> 1.56e+04</td>\n",
              "</tr>\n",
              "<tr>\n",
              "  <th>State_NY</th>         <td> 1.165e+04</td> <td> 1659.753</td> <td>    7.019</td> <td> 0.000</td> <td> 8305.166</td> <td>  1.5e+04</td>\n",
              "</tr>\n",
              "</table>\n",
              "<table class=\"simpletable\">\n",
              "<tr>\n",
              "  <th>Omnibus:</th>       <td> 0.123</td> <th>  Durbin-Watson:     </th> <td>   1.619</td>\n",
              "</tr>\n",
              "<tr>\n",
              "  <th>Prob(Omnibus):</th> <td> 0.940</td> <th>  Jarque-Bera (JB):  </th> <td>   0.292</td>\n",
              "</tr>\n",
              "<tr>\n",
              "  <th>Skew:</th>          <td> 0.093</td> <th>  Prob(JB):          </th> <td>   0.864</td>\n",
              "</tr>\n",
              "<tr>\n",
              "  <th>Kurtosis:</th>      <td> 2.670</td> <th>  Cond. No.          </th> <td>6.06e+21</td>\n",
              "</tr>\n",
              "</table><br/><br/>Notes:<br/>[1] Standard Errors assume that the covariance matrix of the errors is correctly specified.<br/>[2] The smallest eigenvalue is 8.96e-32. This might indicate that there are<br/>strong multicollinearity problems or that the design matrix is singular."
            ]
          },
          "metadata": {},
          "execution_count": 25
        }
      ]
    },
    {
      "cell_type": "markdown",
      "source": [
        "**Our model performance get improved after removeing variabel and row**"
      ],
      "metadata": {
        "id": "wDSJbK2uRd8p"
      }
    },
    {
      "cell_type": "markdown",
      "source": [
        "# Predicting the model"
      ],
      "metadata": {
        "id": "-TgcFN6fSLll"
      }
    },
    {
      "cell_type": "code",
      "source": [
        "df_pred=pd.DataFrame({'R_D':400000,\"M_S\":200000,\"State_California\":0,\"State_Florida\":1,\"State_NY\":0},index=[1])"
      ],
      "metadata": {
        "id": "IiEduimhO6Kp"
      },
      "execution_count": null,
      "outputs": []
    },
    {
      "cell_type": "code",
      "source": [
        "model2.predict(df_pred)"
      ],
      "metadata": {
        "colab": {
          "base_uri": "https://localhost:8080/"
        },
        "id": "OR51sDA1TgSO",
        "outputId": "aac991bb-8567-45c5-bb91-86dde42cfe02"
      },
      "execution_count": null,
      "outputs": [
        {
          "output_type": "execute_result",
          "data": {
            "text/plain": [
              "1    365191.309112\n",
              "dtype: float64"
            ]
          },
          "metadata": {},
          "execution_count": 27
        }
      ]
    },
    {
      "cell_type": "markdown",
      "source": [
        "# Sq Root Transfomtion"
      ],
      "metadata": {
        "id": "Emon3UdQbEbh"
      }
    },
    {
      "cell_type": "code",
      "source": [
        "#Sq root transformation of input variabals\n",
        "sq_X=np.sqrt(df1[[\"R_D\",\"M_S\",\"State_California\",\"State_Florida\",\"State_NY\"]])"
      ],
      "metadata": {
        "id": "pRsubPJcXIpV"
      },
      "execution_count": null,
      "outputs": []
    },
    {
      "cell_type": "code",
      "source": [
        "model3=smf.ols(\"Profit~sq_X\",data=df1).fit()\n",
        "model3.summary()"
      ],
      "metadata": {
        "colab": {
          "base_uri": "https://localhost:8080/",
          "height": 567
        },
        "id": "6wniqxEdcg6E",
        "outputId": "f87ac63c-91e6-48d1-8a2d-f13e2e76b1d3"
      },
      "execution_count": null,
      "outputs": [
        {
          "output_type": "execute_result",
          "data": {
            "text/plain": [
              "<class 'statsmodels.iolib.summary.Summary'>\n",
              "\"\"\"\n",
              "                            OLS Regression Results                            \n",
              "==============================================================================\n",
              "Dep. Variable:                 Profit   R-squared:                       0.896\n",
              "Model:                            OLS   Adj. R-squared:                  0.887\n",
              "Method:                 Least Squares   F-statistic:                     95.09\n",
              "Date:                Wed, 21 Sep 2022   Prob (F-statistic):           4.59e-21\n",
              "Time:                        08:42:39   Log-Likelihood:                -530.44\n",
              "No. Observations:                  49   AIC:                             1071.\n",
              "Df Residuals:                      44   BIC:                             1080.\n",
              "Df Model:                           4                                         \n",
              "Covariance Type:            nonrobust                                         \n",
              "==============================================================================\n",
              "                 coef    std err          t      P>|t|      [0.025      0.975]\n",
              "------------------------------------------------------------------------------\n",
              "Intercept   1.469e+04   4134.135      3.553      0.001    6357.600     2.3e+04\n",
              "sq_X[0]      338.2530     25.309     13.365      0.000     287.247     389.259\n",
              "sq_X[1]       18.4058     15.127      1.217      0.230     -12.080      48.892\n",
              "sq_X[2]     4901.7067   2847.632      1.721      0.092    -837.319    1.06e+04\n",
              "sq_X[3]     3657.2704   3237.662      1.130      0.265   -2867.808    1.02e+04\n",
              "sq_X[4]     6130.4252   2835.762      2.162      0.036     415.322    1.18e+04\n",
              "==============================================================================\n",
              "Omnibus:                        6.630   Durbin-Watson:                   0.774\n",
              "Prob(Omnibus):                  0.036   Jarque-Bera (JB):                6.272\n",
              "Skew:                           0.876   Prob(JB):                       0.0435\n",
              "Kurtosis:                       3.052   Cond. No.                     6.53e+18\n",
              "==============================================================================\n",
              "\n",
              "Notes:\n",
              "[1] Standard Errors assume that the covariance matrix of the errors is correctly specified.\n",
              "[2] The smallest eigenvalue is 3.28e-31. This might indicate that there are\n",
              "strong multicollinearity problems or that the design matrix is singular.\n",
              "\"\"\""
            ],
            "text/html": [
              "<table class=\"simpletable\">\n",
              "<caption>OLS Regression Results</caption>\n",
              "<tr>\n",
              "  <th>Dep. Variable:</th>         <td>Profit</td>      <th>  R-squared:         </th> <td>   0.896</td>\n",
              "</tr>\n",
              "<tr>\n",
              "  <th>Model:</th>                   <td>OLS</td>       <th>  Adj. R-squared:    </th> <td>   0.887</td>\n",
              "</tr>\n",
              "<tr>\n",
              "  <th>Method:</th>             <td>Least Squares</td>  <th>  F-statistic:       </th> <td>   95.09</td>\n",
              "</tr>\n",
              "<tr>\n",
              "  <th>Date:</th>             <td>Wed, 21 Sep 2022</td> <th>  Prob (F-statistic):</th> <td>4.59e-21</td>\n",
              "</tr>\n",
              "<tr>\n",
              "  <th>Time:</th>                 <td>08:42:39</td>     <th>  Log-Likelihood:    </th> <td> -530.44</td>\n",
              "</tr>\n",
              "<tr>\n",
              "  <th>No. Observations:</th>      <td>    49</td>      <th>  AIC:               </th> <td>   1071.</td>\n",
              "</tr>\n",
              "<tr>\n",
              "  <th>Df Residuals:</th>          <td>    44</td>      <th>  BIC:               </th> <td>   1080.</td>\n",
              "</tr>\n",
              "<tr>\n",
              "  <th>Df Model:</th>              <td>     4</td>      <th>                     </th>     <td> </td>   \n",
              "</tr>\n",
              "<tr>\n",
              "  <th>Covariance Type:</th>      <td>nonrobust</td>    <th>                     </th>     <td> </td>   \n",
              "</tr>\n",
              "</table>\n",
              "<table class=\"simpletable\">\n",
              "<tr>\n",
              "      <td></td>         <th>coef</th>     <th>std err</th>      <th>t</th>      <th>P>|t|</th>  <th>[0.025</th>    <th>0.975]</th>  \n",
              "</tr>\n",
              "<tr>\n",
              "  <th>Intercept</th> <td> 1.469e+04</td> <td> 4134.135</td> <td>    3.553</td> <td> 0.001</td> <td> 6357.600</td> <td>  2.3e+04</td>\n",
              "</tr>\n",
              "<tr>\n",
              "  <th>sq_X[0]</th>   <td>  338.2530</td> <td>   25.309</td> <td>   13.365</td> <td> 0.000</td> <td>  287.247</td> <td>  389.259</td>\n",
              "</tr>\n",
              "<tr>\n",
              "  <th>sq_X[1]</th>   <td>   18.4058</td> <td>   15.127</td> <td>    1.217</td> <td> 0.230</td> <td>  -12.080</td> <td>   48.892</td>\n",
              "</tr>\n",
              "<tr>\n",
              "  <th>sq_X[2]</th>   <td> 4901.7067</td> <td> 2847.632</td> <td>    1.721</td> <td> 0.092</td> <td> -837.319</td> <td> 1.06e+04</td>\n",
              "</tr>\n",
              "<tr>\n",
              "  <th>sq_X[3]</th>   <td> 3657.2704</td> <td> 3237.662</td> <td>    1.130</td> <td> 0.265</td> <td>-2867.808</td> <td> 1.02e+04</td>\n",
              "</tr>\n",
              "<tr>\n",
              "  <th>sq_X[4]</th>   <td> 6130.4252</td> <td> 2835.762</td> <td>    2.162</td> <td> 0.036</td> <td>  415.322</td> <td> 1.18e+04</td>\n",
              "</tr>\n",
              "</table>\n",
              "<table class=\"simpletable\">\n",
              "<tr>\n",
              "  <th>Omnibus:</th>       <td> 6.630</td> <th>  Durbin-Watson:     </th> <td>   0.774</td>\n",
              "</tr>\n",
              "<tr>\n",
              "  <th>Prob(Omnibus):</th> <td> 0.036</td> <th>  Jarque-Bera (JB):  </th> <td>   6.272</td>\n",
              "</tr>\n",
              "<tr>\n",
              "  <th>Skew:</th>          <td> 0.876</td> <th>  Prob(JB):          </th> <td>  0.0435</td>\n",
              "</tr>\n",
              "<tr>\n",
              "  <th>Kurtosis:</th>      <td> 3.052</td> <th>  Cond. No.          </th> <td>6.53e+18</td>\n",
              "</tr>\n",
              "</table><br/><br/>Notes:<br/>[1] Standard Errors assume that the covariance matrix of the errors is correctly specified.<br/>[2] The smallest eigenvalue is 3.28e-31. This might indicate that there are<br/>strong multicollinearity problems or that the design matrix is singular."
            ]
          },
          "metadata": {},
          "execution_count": 29
        }
      ]
    },
    {
      "cell_type": "code",
      "source": [
        "#Sq transformation of output variabale\n",
        "sq_Y = np.sqrt(df1[\"Profit\"])"
      ],
      "metadata": {
        "id": "I1kUGP23c2dk"
      },
      "execution_count": null,
      "outputs": []
    },
    {
      "cell_type": "code",
      "source": [
        "model4=smf.ols('sq_Y~R_D+M_S+State_California+State_Florida+State_NY',data=df1).fit()"
      ],
      "metadata": {
        "id": "CI-ju0EaeJ3_"
      },
      "execution_count": null,
      "outputs": []
    },
    {
      "cell_type": "code",
      "source": [
        "model4.summary()"
      ],
      "metadata": {
        "colab": {
          "base_uri": "https://localhost:8080/",
          "height": 567
        },
        "id": "jVQfjQp_emJ5",
        "outputId": "ee6f5537-6268-4fb0-9d5e-d805a30011e5"
      },
      "execution_count": null,
      "outputs": [
        {
          "output_type": "execute_result",
          "data": {
            "text/plain": [
              "<class 'statsmodels.iolib.summary.Summary'>\n",
              "\"\"\"\n",
              "                            OLS Regression Results                            \n",
              "==============================================================================\n",
              "Dep. Variable:                   sq_Y   R-squared:                       0.945\n",
              "Model:                            OLS   Adj. R-squared:                  0.940\n",
              "Method:                 Least Squares   F-statistic:                     189.5\n",
              "Date:                Wed, 21 Sep 2022   Prob (F-statistic):           3.99e-27\n",
              "Time:                        08:42:39   Log-Likelihood:                -197.00\n",
              "No. Observations:                  49   AIC:                             404.0\n",
              "Df Residuals:                      44   BIC:                             413.5\n",
              "Df Model:                           4                                         \n",
              "Covariance Type:            nonrobust                                         \n",
              "====================================================================================\n",
              "                       coef    std err          t      P>|t|      [0.025      0.975]\n",
              "------------------------------------------------------------------------------------\n",
              "Intercept          177.0304      3.289     53.832      0.000     170.403     183.658\n",
              "R_D                  0.0012    6.5e-05     18.242      0.000       0.001       0.001\n",
              "M_S               3.463e-05   2.46e-05      1.410      0.165   -1.49e-05    8.41e-05\n",
              "State_California    60.5197      3.000     20.172      0.000      54.473      66.566\n",
              "State_Florida       59.4193      3.300     18.006      0.000      52.769      66.070\n",
              "State_NY            57.0913      3.022     18.890      0.000      51.000      63.182\n",
              "==============================================================================\n",
              "Omnibus:                       11.160   Durbin-Watson:                   1.188\n",
              "Prob(Omnibus):                  0.004   Jarque-Bera (JB):               11.786\n",
              "Skew:                          -0.899   Prob(JB):                      0.00276\n",
              "Kurtosis:                       4.593   Cond. No.                     6.06e+21\n",
              "==============================================================================\n",
              "\n",
              "Notes:\n",
              "[1] Standard Errors assume that the covariance matrix of the errors is correctly specified.\n",
              "[2] The smallest eigenvalue is 8.96e-32. This might indicate that there are\n",
              "strong multicollinearity problems or that the design matrix is singular.\n",
              "\"\"\""
            ],
            "text/html": [
              "<table class=\"simpletable\">\n",
              "<caption>OLS Regression Results</caption>\n",
              "<tr>\n",
              "  <th>Dep. Variable:</th>          <td>sq_Y</td>       <th>  R-squared:         </th> <td>   0.945</td>\n",
              "</tr>\n",
              "<tr>\n",
              "  <th>Model:</th>                   <td>OLS</td>       <th>  Adj. R-squared:    </th> <td>   0.940</td>\n",
              "</tr>\n",
              "<tr>\n",
              "  <th>Method:</th>             <td>Least Squares</td>  <th>  F-statistic:       </th> <td>   189.5</td>\n",
              "</tr>\n",
              "<tr>\n",
              "  <th>Date:</th>             <td>Wed, 21 Sep 2022</td> <th>  Prob (F-statistic):</th> <td>3.99e-27</td>\n",
              "</tr>\n",
              "<tr>\n",
              "  <th>Time:</th>                 <td>08:42:39</td>     <th>  Log-Likelihood:    </th> <td> -197.00</td>\n",
              "</tr>\n",
              "<tr>\n",
              "  <th>No. Observations:</th>      <td>    49</td>      <th>  AIC:               </th> <td>   404.0</td>\n",
              "</tr>\n",
              "<tr>\n",
              "  <th>Df Residuals:</th>          <td>    44</td>      <th>  BIC:               </th> <td>   413.5</td>\n",
              "</tr>\n",
              "<tr>\n",
              "  <th>Df Model:</th>              <td>     4</td>      <th>                     </th>     <td> </td>   \n",
              "</tr>\n",
              "<tr>\n",
              "  <th>Covariance Type:</th>      <td>nonrobust</td>    <th>                     </th>     <td> </td>   \n",
              "</tr>\n",
              "</table>\n",
              "<table class=\"simpletable\">\n",
              "<tr>\n",
              "          <td></td>            <th>coef</th>     <th>std err</th>      <th>t</th>      <th>P>|t|</th>  <th>[0.025</th>    <th>0.975]</th>  \n",
              "</tr>\n",
              "<tr>\n",
              "  <th>Intercept</th>        <td>  177.0304</td> <td>    3.289</td> <td>   53.832</td> <td> 0.000</td> <td>  170.403</td> <td>  183.658</td>\n",
              "</tr>\n",
              "<tr>\n",
              "  <th>R_D</th>              <td>    0.0012</td> <td>  6.5e-05</td> <td>   18.242</td> <td> 0.000</td> <td>    0.001</td> <td>    0.001</td>\n",
              "</tr>\n",
              "<tr>\n",
              "  <th>M_S</th>              <td> 3.463e-05</td> <td> 2.46e-05</td> <td>    1.410</td> <td> 0.165</td> <td>-1.49e-05</td> <td> 8.41e-05</td>\n",
              "</tr>\n",
              "<tr>\n",
              "  <th>State_California</th> <td>   60.5197</td> <td>    3.000</td> <td>   20.172</td> <td> 0.000</td> <td>   54.473</td> <td>   66.566</td>\n",
              "</tr>\n",
              "<tr>\n",
              "  <th>State_Florida</th>    <td>   59.4193</td> <td>    3.300</td> <td>   18.006</td> <td> 0.000</td> <td>   52.769</td> <td>   66.070</td>\n",
              "</tr>\n",
              "<tr>\n",
              "  <th>State_NY</th>         <td>   57.0913</td> <td>    3.022</td> <td>   18.890</td> <td> 0.000</td> <td>   51.000</td> <td>   63.182</td>\n",
              "</tr>\n",
              "</table>\n",
              "<table class=\"simpletable\">\n",
              "<tr>\n",
              "  <th>Omnibus:</th>       <td>11.160</td> <th>  Durbin-Watson:     </th> <td>   1.188</td>\n",
              "</tr>\n",
              "<tr>\n",
              "  <th>Prob(Omnibus):</th> <td> 0.004</td> <th>  Jarque-Bera (JB):  </th> <td>  11.786</td>\n",
              "</tr>\n",
              "<tr>\n",
              "  <th>Skew:</th>          <td>-0.899</td> <th>  Prob(JB):          </th> <td> 0.00276</td>\n",
              "</tr>\n",
              "<tr>\n",
              "  <th>Kurtosis:</th>      <td> 4.593</td> <th>  Cond. No.          </th> <td>6.06e+21</td>\n",
              "</tr>\n",
              "</table><br/><br/>Notes:<br/>[1] Standard Errors assume that the covariance matrix of the errors is correctly specified.<br/>[2] The smallest eigenvalue is 8.96e-32. This might indicate that there are<br/>strong multicollinearity problems or that the design matrix is singular."
            ]
          },
          "metadata": {},
          "execution_count": 32
        }
      ]
    },
    {
      "cell_type": "code",
      "source": [
        "#Sq root transformation of input as well as output varibal\n",
        "model5=smf.ols('sq_Y~sq_X',data=df1).fit()\n",
        "model5.summary()"
      ],
      "metadata": {
        "colab": {
          "base_uri": "https://localhost:8080/",
          "height": 567
        },
        "id": "5goqTAtQesdL",
        "outputId": "9422e8c2-40c5-46b4-ee04-5780d0ea424b"
      },
      "execution_count": null,
      "outputs": [
        {
          "output_type": "execute_result",
          "data": {
            "text/plain": [
              "<class 'statsmodels.iolib.summary.Summary'>\n",
              "\"\"\"\n",
              "                            OLS Regression Results                            \n",
              "==============================================================================\n",
              "Dep. Variable:                   sq_Y   R-squared:                       0.938\n",
              "Model:                            OLS   Adj. R-squared:                  0.932\n",
              "Method:                 Least Squares   F-statistic:                     165.8\n",
              "Date:                Wed, 21 Sep 2022   Prob (F-statistic):           6.33e-26\n",
              "Time:                        08:42:39   Log-Likelihood:                -200.09\n",
              "No. Observations:                  49   AIC:                             410.2\n",
              "Df Residuals:                      44   BIC:                             419.6\n",
              "Df Model:                           4                                         \n",
              "Covariance Type:            nonrobust                                         \n",
              "==============================================================================\n",
              "                 coef    std err          t      P>|t|      [0.025      0.975]\n",
              "------------------------------------------------------------------------------\n",
              "Intercept    139.4994      4.880     28.585      0.000     129.664     149.335\n",
              "sq_X[0]        0.5306      0.030     17.760      0.000       0.470       0.591\n",
              "sq_X[1]        0.0256      0.018      1.436      0.158      -0.010       0.062\n",
              "sq_X[2]       46.4992      3.362     13.833      0.000      39.725      53.274\n",
              "sq_X[3]       45.3493      3.822     11.866      0.000      37.647      53.052\n",
              "sq_X[4]       47.6508      3.348     14.235      0.000      40.904      54.397\n",
              "==============================================================================\n",
              "Omnibus:                       10.783   Durbin-Watson:                   1.373\n",
              "Prob(Omnibus):                  0.005   Jarque-Bera (JB):               10.488\n",
              "Skew:                           0.983   Prob(JB):                      0.00528\n",
              "Kurtosis:                       4.129   Cond. No.                     6.53e+18\n",
              "==============================================================================\n",
              "\n",
              "Notes:\n",
              "[1] Standard Errors assume that the covariance matrix of the errors is correctly specified.\n",
              "[2] The smallest eigenvalue is 3.28e-31. This might indicate that there are\n",
              "strong multicollinearity problems or that the design matrix is singular.\n",
              "\"\"\""
            ],
            "text/html": [
              "<table class=\"simpletable\">\n",
              "<caption>OLS Regression Results</caption>\n",
              "<tr>\n",
              "  <th>Dep. Variable:</th>          <td>sq_Y</td>       <th>  R-squared:         </th> <td>   0.938</td>\n",
              "</tr>\n",
              "<tr>\n",
              "  <th>Model:</th>                   <td>OLS</td>       <th>  Adj. R-squared:    </th> <td>   0.932</td>\n",
              "</tr>\n",
              "<tr>\n",
              "  <th>Method:</th>             <td>Least Squares</td>  <th>  F-statistic:       </th> <td>   165.8</td>\n",
              "</tr>\n",
              "<tr>\n",
              "  <th>Date:</th>             <td>Wed, 21 Sep 2022</td> <th>  Prob (F-statistic):</th> <td>6.33e-26</td>\n",
              "</tr>\n",
              "<tr>\n",
              "  <th>Time:</th>                 <td>08:42:39</td>     <th>  Log-Likelihood:    </th> <td> -200.09</td>\n",
              "</tr>\n",
              "<tr>\n",
              "  <th>No. Observations:</th>      <td>    49</td>      <th>  AIC:               </th> <td>   410.2</td>\n",
              "</tr>\n",
              "<tr>\n",
              "  <th>Df Residuals:</th>          <td>    44</td>      <th>  BIC:               </th> <td>   419.6</td>\n",
              "</tr>\n",
              "<tr>\n",
              "  <th>Df Model:</th>              <td>     4</td>      <th>                     </th>     <td> </td>   \n",
              "</tr>\n",
              "<tr>\n",
              "  <th>Covariance Type:</th>      <td>nonrobust</td>    <th>                     </th>     <td> </td>   \n",
              "</tr>\n",
              "</table>\n",
              "<table class=\"simpletable\">\n",
              "<tr>\n",
              "      <td></td>         <th>coef</th>     <th>std err</th>      <th>t</th>      <th>P>|t|</th>  <th>[0.025</th>    <th>0.975]</th>  \n",
              "</tr>\n",
              "<tr>\n",
              "  <th>Intercept</th> <td>  139.4994</td> <td>    4.880</td> <td>   28.585</td> <td> 0.000</td> <td>  129.664</td> <td>  149.335</td>\n",
              "</tr>\n",
              "<tr>\n",
              "  <th>sq_X[0]</th>   <td>    0.5306</td> <td>    0.030</td> <td>   17.760</td> <td> 0.000</td> <td>    0.470</td> <td>    0.591</td>\n",
              "</tr>\n",
              "<tr>\n",
              "  <th>sq_X[1]</th>   <td>    0.0256</td> <td>    0.018</td> <td>    1.436</td> <td> 0.158</td> <td>   -0.010</td> <td>    0.062</td>\n",
              "</tr>\n",
              "<tr>\n",
              "  <th>sq_X[2]</th>   <td>   46.4992</td> <td>    3.362</td> <td>   13.833</td> <td> 0.000</td> <td>   39.725</td> <td>   53.274</td>\n",
              "</tr>\n",
              "<tr>\n",
              "  <th>sq_X[3]</th>   <td>   45.3493</td> <td>    3.822</td> <td>   11.866</td> <td> 0.000</td> <td>   37.647</td> <td>   53.052</td>\n",
              "</tr>\n",
              "<tr>\n",
              "  <th>sq_X[4]</th>   <td>   47.6508</td> <td>    3.348</td> <td>   14.235</td> <td> 0.000</td> <td>   40.904</td> <td>   54.397</td>\n",
              "</tr>\n",
              "</table>\n",
              "<table class=\"simpletable\">\n",
              "<tr>\n",
              "  <th>Omnibus:</th>       <td>10.783</td> <th>  Durbin-Watson:     </th> <td>   1.373</td>\n",
              "</tr>\n",
              "<tr>\n",
              "  <th>Prob(Omnibus):</th> <td> 0.005</td> <th>  Jarque-Bera (JB):  </th> <td>  10.488</td>\n",
              "</tr>\n",
              "<tr>\n",
              "  <th>Skew:</th>          <td> 0.983</td> <th>  Prob(JB):          </th> <td> 0.00528</td>\n",
              "</tr>\n",
              "<tr>\n",
              "  <th>Kurtosis:</th>      <td> 4.129</td> <th>  Cond. No.          </th> <td>6.53e+18</td>\n",
              "</tr>\n",
              "</table><br/><br/>Notes:<br/>[1] Standard Errors assume that the covariance matrix of the errors is correctly specified.<br/>[2] The smallest eigenvalue is 3.28e-31. This might indicate that there are<br/>strong multicollinearity problems or that the design matrix is singular."
            ]
          },
          "metadata": {},
          "execution_count": 33
        }
      ]
    },
    {
      "cell_type": "code",
      "source": [
        "model4.predict(df_pred)"
      ],
      "metadata": {
        "colab": {
          "base_uri": "https://localhost:8080/"
        },
        "id": "6DRQAOmFf1Fc",
        "outputId": "54ad8e00-9be9-4654-a20e-b7fbc4d3a90f"
      },
      "execution_count": null,
      "outputs": [
        {
          "output_type": "execute_result",
          "data": {
            "text/plain": [
              "1    718.030062\n",
              "dtype: float64"
            ]
          },
          "metadata": {},
          "execution_count": 34
        }
      ]
    },
    {
      "cell_type": "code",
      "source": [],
      "metadata": {
        "id": "rYoOnh9Ti2GP"
      },
      "execution_count": null,
      "outputs": []
    }
  ]
}